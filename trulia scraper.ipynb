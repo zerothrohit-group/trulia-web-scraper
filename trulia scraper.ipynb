{
 "cells": [
  {
   "cell_type": "markdown",
   "id": "54fa9572",
   "metadata": {},
   "source": [
    "# TRULIA Website Scrapper 🖨️"
   ]
  },
  {
   "cell_type": "markdown",
   "id": "e36b6214",
   "metadata": {},
   "source": [
    "Import all required libraries ⛏️"
   ]
  },
  {
   "cell_type": "code",
   "execution_count": 1,
   "id": "025a1dc4",
   "metadata": {},
   "outputs": [],
   "source": [
    "import pandas as pd\n",
    "# import numpy as np"
   ]
  },
  {
   "cell_type": "code",
   "execution_count": 2,
   "id": "80aa124f",
   "metadata": {},
   "outputs": [],
   "source": [
    "from selenium import webdriver\n",
    "from pip._vendor import requests\n",
    "from selenium.webdriver.common.by import By\n",
    "from selenium.common.exceptions import TimeoutException\n",
    "\n",
    "# import os\n",
    "# import time\n",
    "# import re\n",
    "# import urllib\n",
    "# import wget\n",
    "# from selenium.webdriver.support.ui import WebDriverWait"
   ]
  },
  {
   "cell_type": "markdown",
   "id": "27d37245",
   "metadata": {},
   "source": [
    "### Initialize the WebDriver and URL\n",
    "Web driver: It drives the browser effectively."
   ]
  },
  {
   "cell_type": "code",
   "execution_count": 3,
   "id": "67b66e52",
   "metadata": {},
   "outputs": [
    {
     "name": "stderr",
     "output_type": "stream",
     "text": [
      "C:\\Users\\ASUS\\AppData\\Local\\Temp\\ipykernel_15416\\1673277083.py:1: DeprecationWarning: executable_path has been deprecated, please pass in a Service object\n",
      "  driver = webdriver.Chrome(\"chromedriver.exe\")\n"
     ]
    }
   ],
   "source": [
    "driver = webdriver.Chrome(\"chromedriver.exe\")\n",
    "driver.get('https://www.trulia.com/NY/New_York/')"
   ]
  },
  {
   "cell_type": "code",
   "execution_count": 4,
   "id": "708b4a48",
   "metadata": {},
   "outputs": [],
   "source": [
    "links_list =[]"
   ]
  },
  {
   "cell_type": "markdown",
   "id": "349d4165",
   "metadata": {},
   "source": [
    "### Extract links from each card on each page"
   ]
  },
  {
   "cell_type": "markdown",
   "id": "e5dda37b",
   "metadata": {},
   "source": [
    "Get all card links on current page"
   ]
  },
  {
   "cell_type": "code",
   "execution_count": 5,
   "id": "d0e04288",
   "metadata": {},
   "outputs": [],
   "source": [
    "links = driver.find_elements(by=By.XPATH, value='//div/div/div/div/div[2]/div/a')\n",
    "\n",
    "def extract_links(links):\n",
    "    for j in links:\n",
    "        link = j.get_attribute('href')\n",
    "        links_list.append(link)\n"
   ]
  },
  {
   "cell_type": "markdown",
   "id": "666d8f23",
   "metadata": {},
   "source": [
    "To change to next page"
   ]
  },
  {
   "cell_type": "code",
   "execution_count": 6,
   "id": "96f2f9fb",
   "metadata": {},
   "outputs": [
    {
     "name": "stdout",
     "output_type": "stream",
     "text": [
      "Last page reached\n"
     ]
    }
   ],
   "source": [
    "\n",
    "while True:\n",
    "    try:\n",
    "        extract_links(links)\n",
    "        driver.find_element(by=By.XPATH, value='//*[@id=\"resultsColumn\"]/nav/ul/li[8]/a/div').click()\n",
    "        \n",
    "    except:\n",
    "        print(\"Last page reached\")\n",
    "        break"
   ]
  },
  {
   "cell_type": "markdown",
   "id": "bdea84c2",
   "metadata": {},
   "source": [
    "### Check extracted links 👀"
   ]
  },
  {
   "cell_type": "code",
   "execution_count": 7,
   "id": "62d5034c",
   "metadata": {
    "scrolled": true
   },
   "outputs": [
    {
     "data": {
      "text/plain": [
       "['https://www.trulia.com/p/ny/brooklyn/1752-e-38th-st-brooklyn-ny-11234--2089021479',\n",
       " 'https://www.trulia.com/p/ny/staten-island/556-jefferson-blvd-staten-island-ny-10312--2159074627',\n",
       " 'https://www.trulia.com/p/ny/brooklyn/7913-5th-ave-brooklyn-ny-11209--2009639754',\n",
       " 'https://www.trulia.com/p/ny/floral-park/269-10-grand-central-pkwy-5d-floral-park-ny-11005--2557952565',\n",
       " 'https://www.trulia.com/p/ny/brooklyn/1025-42nd-st-5-brooklyn-ny-11219--2009733594',\n",
       " 'https://www.trulia.com/p/ny/richmond-hill/86-10-109th-st-bb2-richmond-hill-ny-11418--2398569166',\n",
       " 'https://www.trulia.com/p/ny/staten-island/10-bay-street-lndg-7j-staten-island-ny-10301--2619341064',\n",
       " 'https://www.trulia.com/p/ny/brooklyn/2525-2529-e-11th-st-brooklyn-ny-11235--2557932740',\n",
       " 'https://www.trulia.com/p/ny/new-york/240-riverside-blvd-8o-new-york-ny-10069--2174103761',\n",
       " 'https://www.trulia.com/p/ny/new-york/240-riverside-blvd-11f-new-york-ny-10069--2174728335',\n",
       " 'https://www.trulia.com/p/ny/jamaica/14702-120th-ave-jamaica-ny-11436--2010277091',\n",
       " 'https://www.trulia.com/p/ny/bronx/2866-lasalle-ave-bronx-ny-10461--2008903767',\n",
       " 'https://www.trulia.com/p/ny/flushing/6141-70th-st-flushing-ny-11379--2010101401',\n",
       " 'https://www.trulia.com/p/ny/bronx/1553-unionport-rd-2a-bronx-ny-10462--2008910171',\n",
       " 'https://www.trulia.com/p/ny/queens-village/103-06-217th-ln-queens-village-ny-11429--2010230910',\n",
       " 'https://www.trulia.com/p/ny/ridgewood/55-13-metro-ave-ridgewood-ny-11385--2620645708',\n",
       " 'https://www.trulia.com/p/ny/flushing/5513-metropolitan-ave-flushing-ny-11385--475888',\n",
       " 'https://www.trulia.com/p/ny/staten-island/151-daniel-low-ter-staten-island-ny-10301--1044790165',\n",
       " 'https://www.trulia.com/p/ny/brooklyn/319-columbia-st-brooklyn-ny-11231--2009836102',\n",
       " 'https://www.trulia.com/p/ny/flushing/6247-84th-st-flushing-ny-11379--2010102422',\n",
       " 'https://www.trulia.com/p/ny/bayside/38-08-corporal-stone-st-bayside-ny-11361--2009974176',\n",
       " 'https://www.trulia.com/p/ny/new-york/100-w-89th-st-3a-new-york-ny-10024--2088869525',\n",
       " 'https://www.trulia.com/p/ny/new-york/146-e-49th-st-8c-new-york-ny-10017--2478697888',\n",
       " 'https://www.trulia.com/home/0-Laconia-Ave-Staten-Island-NY-10306-2063147701',\n",
       " 'https://www.trulia.com/home/1131-E-219th-St-Bronx-NY-10469-2096768726',\n",
       " 'https://www.trulia.com/p/ny/staten-island/256-bard-ave-staten-island-ny-10310--2008816751',\n",
       " 'https://www.trulia.com/p/ny/staten-island/205-four-corners-rd-staten-island-ny-10304--2008747636',\n",
       " 'https://www.trulia.com/p/ny/staten-island/665a-correll-ave-staten-island-ny-10309--2189881534',\n",
       " 'https://www.trulia.com/p/ny/richmond-hill/86-10-109th-st-bb1-richmond-hill-ny-11418--2620643031',\n",
       " 'https://www.trulia.com/p/ny/brooklyn/5011-snyder-ave-brooklyn-ny-11203--257699',\n",
       " 'https://www.trulia.com/p/ny/flushing/4309-104th-st-flushing-ny-11368--2010023389',\n",
       " 'https://www.trulia.com/p/ny/new-york/201-w-74th-st-14f-new-york-ny-10023--2088865990',\n",
       " 'https://www.trulia.com/p/ny/brooklyn/2365-83rd-st-brooklyn-ny-11214--2009684175',\n",
       " 'https://www.trulia.com/p/ny/brooklyn/4401-4th-ave-a2-brooklyn-ny-11220--2346114138',\n",
       " 'https://www.trulia.com/p/ny/new-york/461-w-22nd-st-a-new-york-ny-10011--2088826787',\n",
       " 'https://www.trulia.com/p/ny/new-york/139-e-95th-st-new-york-ny-10128--254835',\n",
       " 'https://www.trulia.com/p/ny/south-richmond-hill/121-23-103rd-ave-south-richmond-hill-ny-11419--2397326727',\n",
       " 'https://www.trulia.com/p/ny/brooklyn/848-43rd-st-35-brooklyn-ny-11232--2478828378',\n",
       " 'https://www.trulia.com/p/ny/bronx/853-macy-pl-8g-bronx-ny-10455--2333292969',\n",
       " 'https://www.trulia.com/p/ny/long-island-city/2416-26th-st-long-island-city-ny-11102--2009495323',\n",
       " 'https://www.trulia.com/p/ny/brooklyn/1752-e-38th-st-brooklyn-ny-11234--2089021479',\n",
       " 'https://www.trulia.com/p/ny/staten-island/556-jefferson-blvd-staten-island-ny-10312--2159074627',\n",
       " 'https://www.trulia.com/p/ny/brooklyn/7913-5th-ave-brooklyn-ny-11209--2009639754',\n",
       " 'https://www.trulia.com/p/ny/floral-park/269-10-grand-central-pkwy-5d-floral-park-ny-11005--2557952565',\n",
       " 'https://www.trulia.com/p/ny/brooklyn/1025-42nd-st-5-brooklyn-ny-11219--2009733594',\n",
       " 'https://www.trulia.com/p/ny/richmond-hill/86-10-109th-st-bb2-richmond-hill-ny-11418--2398569166',\n",
       " 'https://www.trulia.com/p/ny/staten-island/10-bay-street-lndg-7j-staten-island-ny-10301--2619341064',\n",
       " 'https://www.trulia.com/p/ny/brooklyn/2525-2529-e-11th-st-brooklyn-ny-11235--2557932740',\n",
       " 'https://www.trulia.com/p/ny/new-york/240-riverside-blvd-8o-new-york-ny-10069--2174103761',\n",
       " 'https://www.trulia.com/p/ny/new-york/240-riverside-blvd-11f-new-york-ny-10069--2174728335',\n",
       " 'https://www.trulia.com/p/ny/jamaica/14702-120th-ave-jamaica-ny-11436--2010277091',\n",
       " 'https://www.trulia.com/p/ny/bronx/2866-lasalle-ave-bronx-ny-10461--2008903767',\n",
       " 'https://www.trulia.com/p/ny/flushing/6141-70th-st-flushing-ny-11379--2010101401',\n",
       " 'https://www.trulia.com/p/ny/bronx/1553-unionport-rd-2a-bronx-ny-10462--2008910171',\n",
       " 'https://www.trulia.com/p/ny/queens-village/103-06-217th-ln-queens-village-ny-11429--2010230910',\n",
       " 'https://www.trulia.com/p/ny/ridgewood/55-13-metro-ave-ridgewood-ny-11385--2620645708',\n",
       " 'https://www.trulia.com/p/ny/flushing/5513-metropolitan-ave-flushing-ny-11385--475888',\n",
       " 'https://www.trulia.com/p/ny/staten-island/151-daniel-low-ter-staten-island-ny-10301--1044790165',\n",
       " 'https://www.trulia.com/p/ny/brooklyn/319-columbia-st-brooklyn-ny-11231--2009836102',\n",
       " 'https://www.trulia.com/p/ny/flushing/6247-84th-st-flushing-ny-11379--2010102422',\n",
       " 'https://www.trulia.com/p/ny/bayside/38-08-corporal-stone-st-bayside-ny-11361--2009974176',\n",
       " 'https://www.trulia.com/p/ny/new-york/100-w-89th-st-3a-new-york-ny-10024--2088869525',\n",
       " 'https://www.trulia.com/p/ny/new-york/146-e-49th-st-8c-new-york-ny-10017--2478697888',\n",
       " 'https://www.trulia.com/home/0-Laconia-Ave-Staten-Island-NY-10306-2063147701',\n",
       " 'https://www.trulia.com/home/1131-E-219th-St-Bronx-NY-10469-2096768726',\n",
       " 'https://www.trulia.com/p/ny/staten-island/256-bard-ave-staten-island-ny-10310--2008816751',\n",
       " 'https://www.trulia.com/p/ny/staten-island/205-four-corners-rd-staten-island-ny-10304--2008747636',\n",
       " 'https://www.trulia.com/p/ny/staten-island/665a-correll-ave-staten-island-ny-10309--2189881534',\n",
       " 'https://www.trulia.com/p/ny/richmond-hill/86-10-109th-st-bb1-richmond-hill-ny-11418--2620643031',\n",
       " 'https://www.trulia.com/p/ny/brooklyn/5011-snyder-ave-brooklyn-ny-11203--257699',\n",
       " 'https://www.trulia.com/p/ny/flushing/4309-104th-st-flushing-ny-11368--2010023389',\n",
       " 'https://www.trulia.com/p/ny/new-york/201-w-74th-st-14f-new-york-ny-10023--2088865990',\n",
       " 'https://www.trulia.com/p/ny/brooklyn/2365-83rd-st-brooklyn-ny-11214--2009684175',\n",
       " 'https://www.trulia.com/p/ny/brooklyn/4401-4th-ave-a2-brooklyn-ny-11220--2346114138',\n",
       " 'https://www.trulia.com/p/ny/new-york/461-w-22nd-st-a-new-york-ny-10011--2088826787',\n",
       " 'https://www.trulia.com/p/ny/new-york/139-e-95th-st-new-york-ny-10128--254835',\n",
       " 'https://www.trulia.com/p/ny/south-richmond-hill/121-23-103rd-ave-south-richmond-hill-ny-11419--2397326727',\n",
       " 'https://www.trulia.com/p/ny/brooklyn/848-43rd-st-35-brooklyn-ny-11232--2478828378',\n",
       " 'https://www.trulia.com/p/ny/bronx/853-macy-pl-8g-bronx-ny-10455--2333292969',\n",
       " 'https://www.trulia.com/p/ny/long-island-city/2416-26th-st-long-island-city-ny-11102--2009495323',\n",
       " 'https://www.trulia.com/p/ny/brooklyn/1752-e-38th-st-brooklyn-ny-11234--2089021479',\n",
       " 'https://www.trulia.com/p/ny/staten-island/556-jefferson-blvd-staten-island-ny-10312--2159074627',\n",
       " 'https://www.trulia.com/p/ny/brooklyn/7913-5th-ave-brooklyn-ny-11209--2009639754',\n",
       " 'https://www.trulia.com/p/ny/floral-park/269-10-grand-central-pkwy-5d-floral-park-ny-11005--2557952565',\n",
       " 'https://www.trulia.com/p/ny/brooklyn/1025-42nd-st-5-brooklyn-ny-11219--2009733594',\n",
       " 'https://www.trulia.com/p/ny/richmond-hill/86-10-109th-st-bb2-richmond-hill-ny-11418--2398569166',\n",
       " 'https://www.trulia.com/p/ny/staten-island/10-bay-street-lndg-7j-staten-island-ny-10301--2619341064',\n",
       " 'https://www.trulia.com/p/ny/brooklyn/2525-2529-e-11th-st-brooklyn-ny-11235--2557932740',\n",
       " 'https://www.trulia.com/p/ny/new-york/240-riverside-blvd-8o-new-york-ny-10069--2174103761',\n",
       " 'https://www.trulia.com/p/ny/new-york/240-riverside-blvd-11f-new-york-ny-10069--2174728335',\n",
       " 'https://www.trulia.com/p/ny/jamaica/14702-120th-ave-jamaica-ny-11436--2010277091',\n",
       " 'https://www.trulia.com/p/ny/bronx/2866-lasalle-ave-bronx-ny-10461--2008903767',\n",
       " 'https://www.trulia.com/p/ny/flushing/6141-70th-st-flushing-ny-11379--2010101401',\n",
       " 'https://www.trulia.com/p/ny/bronx/1553-unionport-rd-2a-bronx-ny-10462--2008910171',\n",
       " 'https://www.trulia.com/p/ny/queens-village/103-06-217th-ln-queens-village-ny-11429--2010230910',\n",
       " 'https://www.trulia.com/p/ny/ridgewood/55-13-metro-ave-ridgewood-ny-11385--2620645708',\n",
       " 'https://www.trulia.com/p/ny/flushing/5513-metropolitan-ave-flushing-ny-11385--475888',\n",
       " 'https://www.trulia.com/p/ny/staten-island/151-daniel-low-ter-staten-island-ny-10301--1044790165',\n",
       " 'https://www.trulia.com/p/ny/brooklyn/319-columbia-st-brooklyn-ny-11231--2009836102',\n",
       " 'https://www.trulia.com/p/ny/flushing/6247-84th-st-flushing-ny-11379--2010102422',\n",
       " 'https://www.trulia.com/p/ny/bayside/38-08-corporal-stone-st-bayside-ny-11361--2009974176',\n",
       " 'https://www.trulia.com/p/ny/new-york/100-w-89th-st-3a-new-york-ny-10024--2088869525',\n",
       " 'https://www.trulia.com/p/ny/new-york/146-e-49th-st-8c-new-york-ny-10017--2478697888',\n",
       " 'https://www.trulia.com/home/0-Laconia-Ave-Staten-Island-NY-10306-2063147701',\n",
       " 'https://www.trulia.com/home/1131-E-219th-St-Bronx-NY-10469-2096768726',\n",
       " 'https://www.trulia.com/p/ny/staten-island/256-bard-ave-staten-island-ny-10310--2008816751',\n",
       " 'https://www.trulia.com/p/ny/staten-island/205-four-corners-rd-staten-island-ny-10304--2008747636',\n",
       " 'https://www.trulia.com/p/ny/staten-island/665a-correll-ave-staten-island-ny-10309--2189881534',\n",
       " 'https://www.trulia.com/p/ny/richmond-hill/86-10-109th-st-bb1-richmond-hill-ny-11418--2620643031',\n",
       " 'https://www.trulia.com/p/ny/brooklyn/5011-snyder-ave-brooklyn-ny-11203--257699',\n",
       " 'https://www.trulia.com/p/ny/flushing/4309-104th-st-flushing-ny-11368--2010023389',\n",
       " 'https://www.trulia.com/p/ny/new-york/201-w-74th-st-14f-new-york-ny-10023--2088865990',\n",
       " 'https://www.trulia.com/p/ny/brooklyn/2365-83rd-st-brooklyn-ny-11214--2009684175',\n",
       " 'https://www.trulia.com/p/ny/brooklyn/4401-4th-ave-a2-brooklyn-ny-11220--2346114138',\n",
       " 'https://www.trulia.com/p/ny/new-york/461-w-22nd-st-a-new-york-ny-10011--2088826787',\n",
       " 'https://www.trulia.com/p/ny/new-york/139-e-95th-st-new-york-ny-10128--254835',\n",
       " 'https://www.trulia.com/p/ny/south-richmond-hill/121-23-103rd-ave-south-richmond-hill-ny-11419--2397326727',\n",
       " 'https://www.trulia.com/p/ny/brooklyn/848-43rd-st-35-brooklyn-ny-11232--2478828378',\n",
       " 'https://www.trulia.com/p/ny/bronx/853-macy-pl-8g-bronx-ny-10455--2333292969',\n",
       " 'https://www.trulia.com/p/ny/long-island-city/2416-26th-st-long-island-city-ny-11102--2009495323',\n",
       " 'https://www.trulia.com/p/ny/brooklyn/1752-e-38th-st-brooklyn-ny-11234--2089021479',\n",
       " 'https://www.trulia.com/p/ny/staten-island/556-jefferson-blvd-staten-island-ny-10312--2159074627',\n",
       " 'https://www.trulia.com/p/ny/brooklyn/7913-5th-ave-brooklyn-ny-11209--2009639754',\n",
       " 'https://www.trulia.com/p/ny/floral-park/269-10-grand-central-pkwy-5d-floral-park-ny-11005--2557952565',\n",
       " 'https://www.trulia.com/p/ny/brooklyn/1025-42nd-st-5-brooklyn-ny-11219--2009733594',\n",
       " 'https://www.trulia.com/p/ny/richmond-hill/86-10-109th-st-bb2-richmond-hill-ny-11418--2398569166',\n",
       " 'https://www.trulia.com/p/ny/staten-island/10-bay-street-lndg-7j-staten-island-ny-10301--2619341064',\n",
       " 'https://www.trulia.com/p/ny/brooklyn/2525-2529-e-11th-st-brooklyn-ny-11235--2557932740',\n",
       " 'https://www.trulia.com/p/ny/new-york/240-riverside-blvd-8o-new-york-ny-10069--2174103761',\n",
       " 'https://www.trulia.com/p/ny/new-york/240-riverside-blvd-11f-new-york-ny-10069--2174728335',\n",
       " 'https://www.trulia.com/p/ny/jamaica/14702-120th-ave-jamaica-ny-11436--2010277091',\n",
       " 'https://www.trulia.com/p/ny/bronx/2866-lasalle-ave-bronx-ny-10461--2008903767',\n",
       " 'https://www.trulia.com/p/ny/flushing/6141-70th-st-flushing-ny-11379--2010101401',\n",
       " 'https://www.trulia.com/p/ny/bronx/1553-unionport-rd-2a-bronx-ny-10462--2008910171',\n",
       " 'https://www.trulia.com/p/ny/queens-village/103-06-217th-ln-queens-village-ny-11429--2010230910',\n",
       " 'https://www.trulia.com/p/ny/ridgewood/55-13-metro-ave-ridgewood-ny-11385--2620645708',\n",
       " 'https://www.trulia.com/p/ny/flushing/5513-metropolitan-ave-flushing-ny-11385--475888',\n",
       " 'https://www.trulia.com/p/ny/staten-island/151-daniel-low-ter-staten-island-ny-10301--1044790165',\n",
       " 'https://www.trulia.com/p/ny/brooklyn/319-columbia-st-brooklyn-ny-11231--2009836102',\n",
       " 'https://www.trulia.com/p/ny/flushing/6247-84th-st-flushing-ny-11379--2010102422',\n",
       " 'https://www.trulia.com/p/ny/bayside/38-08-corporal-stone-st-bayside-ny-11361--2009974176',\n",
       " 'https://www.trulia.com/p/ny/new-york/100-w-89th-st-3a-new-york-ny-10024--2088869525',\n",
       " 'https://www.trulia.com/p/ny/new-york/146-e-49th-st-8c-new-york-ny-10017--2478697888',\n",
       " 'https://www.trulia.com/home/0-Laconia-Ave-Staten-Island-NY-10306-2063147701',\n",
       " 'https://www.trulia.com/home/1131-E-219th-St-Bronx-NY-10469-2096768726',\n",
       " 'https://www.trulia.com/p/ny/staten-island/256-bard-ave-staten-island-ny-10310--2008816751',\n",
       " 'https://www.trulia.com/p/ny/staten-island/205-four-corners-rd-staten-island-ny-10304--2008747636',\n",
       " 'https://www.trulia.com/p/ny/staten-island/665a-correll-ave-staten-island-ny-10309--2189881534',\n",
       " 'https://www.trulia.com/p/ny/richmond-hill/86-10-109th-st-bb1-richmond-hill-ny-11418--2620643031',\n",
       " 'https://www.trulia.com/p/ny/brooklyn/5011-snyder-ave-brooklyn-ny-11203--257699',\n",
       " 'https://www.trulia.com/p/ny/flushing/4309-104th-st-flushing-ny-11368--2010023389',\n",
       " 'https://www.trulia.com/p/ny/new-york/201-w-74th-st-14f-new-york-ny-10023--2088865990',\n",
       " 'https://www.trulia.com/p/ny/brooklyn/2365-83rd-st-brooklyn-ny-11214--2009684175',\n",
       " 'https://www.trulia.com/p/ny/brooklyn/4401-4th-ave-a2-brooklyn-ny-11220--2346114138',\n",
       " 'https://www.trulia.com/p/ny/new-york/461-w-22nd-st-a-new-york-ny-10011--2088826787',\n",
       " 'https://www.trulia.com/p/ny/new-york/139-e-95th-st-new-york-ny-10128--254835',\n",
       " 'https://www.trulia.com/p/ny/south-richmond-hill/121-23-103rd-ave-south-richmond-hill-ny-11419--2397326727',\n",
       " 'https://www.trulia.com/p/ny/brooklyn/848-43rd-st-35-brooklyn-ny-11232--2478828378',\n",
       " 'https://www.trulia.com/p/ny/bronx/853-macy-pl-8g-bronx-ny-10455--2333292969',\n",
       " 'https://www.trulia.com/p/ny/long-island-city/2416-26th-st-long-island-city-ny-11102--2009495323',\n",
       " 'https://www.trulia.com/p/ny/brooklyn/1752-e-38th-st-brooklyn-ny-11234--2089021479',\n",
       " 'https://www.trulia.com/p/ny/staten-island/556-jefferson-blvd-staten-island-ny-10312--2159074627',\n",
       " 'https://www.trulia.com/p/ny/brooklyn/7913-5th-ave-brooklyn-ny-11209--2009639754',\n",
       " 'https://www.trulia.com/p/ny/floral-park/269-10-grand-central-pkwy-5d-floral-park-ny-11005--2557952565',\n",
       " 'https://www.trulia.com/p/ny/brooklyn/1025-42nd-st-5-brooklyn-ny-11219--2009733594',\n",
       " 'https://www.trulia.com/p/ny/richmond-hill/86-10-109th-st-bb2-richmond-hill-ny-11418--2398569166',\n",
       " 'https://www.trulia.com/p/ny/staten-island/10-bay-street-lndg-7j-staten-island-ny-10301--2619341064',\n",
       " 'https://www.trulia.com/p/ny/brooklyn/2525-2529-e-11th-st-brooklyn-ny-11235--2557932740',\n",
       " 'https://www.trulia.com/p/ny/new-york/240-riverside-blvd-8o-new-york-ny-10069--2174103761',\n",
       " 'https://www.trulia.com/p/ny/new-york/240-riverside-blvd-11f-new-york-ny-10069--2174728335',\n",
       " 'https://www.trulia.com/p/ny/jamaica/14702-120th-ave-jamaica-ny-11436--2010277091',\n",
       " 'https://www.trulia.com/p/ny/bronx/2866-lasalle-ave-bronx-ny-10461--2008903767',\n",
       " 'https://www.trulia.com/p/ny/flushing/6141-70th-st-flushing-ny-11379--2010101401',\n",
       " 'https://www.trulia.com/p/ny/bronx/1553-unionport-rd-2a-bronx-ny-10462--2008910171',\n",
       " 'https://www.trulia.com/p/ny/queens-village/103-06-217th-ln-queens-village-ny-11429--2010230910',\n",
       " 'https://www.trulia.com/p/ny/ridgewood/55-13-metro-ave-ridgewood-ny-11385--2620645708',\n",
       " 'https://www.trulia.com/p/ny/flushing/5513-metropolitan-ave-flushing-ny-11385--475888',\n",
       " 'https://www.trulia.com/p/ny/staten-island/151-daniel-low-ter-staten-island-ny-10301--1044790165',\n",
       " 'https://www.trulia.com/p/ny/brooklyn/319-columbia-st-brooklyn-ny-11231--2009836102',\n",
       " 'https://www.trulia.com/p/ny/flushing/6247-84th-st-flushing-ny-11379--2010102422',\n",
       " 'https://www.trulia.com/p/ny/bayside/38-08-corporal-stone-st-bayside-ny-11361--2009974176',\n",
       " 'https://www.trulia.com/p/ny/new-york/100-w-89th-st-3a-new-york-ny-10024--2088869525',\n",
       " 'https://www.trulia.com/p/ny/new-york/146-e-49th-st-8c-new-york-ny-10017--2478697888',\n",
       " 'https://www.trulia.com/home/0-Laconia-Ave-Staten-Island-NY-10306-2063147701',\n",
       " 'https://www.trulia.com/home/1131-E-219th-St-Bronx-NY-10469-2096768726',\n",
       " 'https://www.trulia.com/p/ny/staten-island/256-bard-ave-staten-island-ny-10310--2008816751',\n",
       " 'https://www.trulia.com/p/ny/staten-island/205-four-corners-rd-staten-island-ny-10304--2008747636',\n",
       " 'https://www.trulia.com/p/ny/staten-island/665a-correll-ave-staten-island-ny-10309--2189881534',\n",
       " 'https://www.trulia.com/p/ny/richmond-hill/86-10-109th-st-bb1-richmond-hill-ny-11418--2620643031',\n",
       " 'https://www.trulia.com/p/ny/brooklyn/5011-snyder-ave-brooklyn-ny-11203--257699',\n",
       " 'https://www.trulia.com/p/ny/flushing/4309-104th-st-flushing-ny-11368--2010023389',\n",
       " 'https://www.trulia.com/p/ny/new-york/201-w-74th-st-14f-new-york-ny-10023--2088865990',\n",
       " 'https://www.trulia.com/p/ny/brooklyn/2365-83rd-st-brooklyn-ny-11214--2009684175',\n",
       " 'https://www.trulia.com/p/ny/brooklyn/4401-4th-ave-a2-brooklyn-ny-11220--2346114138',\n",
       " 'https://www.trulia.com/p/ny/new-york/461-w-22nd-st-a-new-york-ny-10011--2088826787',\n",
       " 'https://www.trulia.com/p/ny/new-york/139-e-95th-st-new-york-ny-10128--254835',\n",
       " 'https://www.trulia.com/p/ny/south-richmond-hill/121-23-103rd-ave-south-richmond-hill-ny-11419--2397326727',\n",
       " 'https://www.trulia.com/p/ny/brooklyn/848-43rd-st-35-brooklyn-ny-11232--2478828378',\n",
       " 'https://www.trulia.com/p/ny/bronx/853-macy-pl-8g-bronx-ny-10455--2333292969',\n",
       " 'https://www.trulia.com/p/ny/long-island-city/2416-26th-st-long-island-city-ny-11102--2009495323',\n",
       " 'https://www.trulia.com/p/ny/brooklyn/1752-e-38th-st-brooklyn-ny-11234--2089021479',\n",
       " 'https://www.trulia.com/p/ny/staten-island/556-jefferson-blvd-staten-island-ny-10312--2159074627',\n",
       " 'https://www.trulia.com/p/ny/brooklyn/7913-5th-ave-brooklyn-ny-11209--2009639754',\n",
       " 'https://www.trulia.com/p/ny/floral-park/269-10-grand-central-pkwy-5d-floral-park-ny-11005--2557952565',\n",
       " 'https://www.trulia.com/p/ny/brooklyn/1025-42nd-st-5-brooklyn-ny-11219--2009733594']"
      ]
     },
     "execution_count": 7,
     "metadata": {},
     "output_type": "execute_result"
    }
   ],
   "source": [
    "links_list"
   ]
  },
  {
   "cell_type": "code",
   "execution_count": 8,
   "id": "25d4e3cd",
   "metadata": {},
   "outputs": [
    {
     "data": {
      "text/plain": [
       "205"
      ]
     },
     "execution_count": 8,
     "metadata": {},
     "output_type": "execute_result"
    }
   ],
   "source": [
    "len(links_list)"
   ]
  },
  {
   "cell_type": "code",
   "execution_count": 9,
   "id": "048f92ec",
   "metadata": {},
   "outputs": [
    {
     "data": {
      "text/plain": [
       "['https://www.trulia.com/p/ny/brooklyn/1752-e-38th-st-brooklyn-ny-11234--2089021479',\n",
       " 'https://www.trulia.com/p/ny/staten-island/556-jefferson-blvd-staten-island-ny-10312--2159074627',\n",
       " 'https://www.trulia.com/p/ny/brooklyn/7913-5th-ave-brooklyn-ny-11209--2009639754',\n",
       " 'https://www.trulia.com/p/ny/floral-park/269-10-grand-central-pkwy-5d-floral-park-ny-11005--2557952565',\n",
       " 'https://www.trulia.com/p/ny/brooklyn/1025-42nd-st-5-brooklyn-ny-11219--2009733594']"
      ]
     },
     "execution_count": 9,
     "metadata": {},
     "output_type": "execute_result"
    }
   ],
   "source": [
    "# hey = links_list\n",
    "hey = links_list[:5]\n",
    "hey"
   ]
  },
  {
   "cell_type": "markdown",
   "id": "bfa05fbb",
   "metadata": {},
   "source": [
    "Initialize list for each attribute"
   ]
  },
  {
   "cell_type": "code",
   "execution_count": 10,
   "id": "b118a535",
   "metadata": {},
   "outputs": [],
   "source": [
    "names= []\n",
    "cities = []\n",
    "neighbourhood = []\n",
    "prices = []\n",
    "beds= []\n",
    "baths = []\n",
    "areas = []\n",
    "price_per_sqft = []\n",
    "acs=[]\n",
    "year_built=[]\n",
    "#parkings=[]"
   ]
  },
  {
   "cell_type": "markdown",
   "id": "0e08c3ef",
   "metadata": {},
   "source": [
    "### Extract attributes from each page"
   ]
  },
  {
   "cell_type": "code",
   "execution_count": 11,
   "id": "78d996d2",
   "metadata": {},
   "outputs": [
    {
     "name": "stderr",
     "output_type": "stream",
     "text": [
      "C:\\Users\\ASUS\\AppData\\Local\\Temp\\ipykernel_15416\\1156636130.py:2: DeprecationWarning: executable_path has been deprecated, please pass in a Service object\n",
      "  driver = webdriver.Chrome(\"chromedriver.exe\")\n"
     ]
    }
   ],
   "source": [
    "for link in hey:\n",
    "    driver = webdriver.Chrome(\"chromedriver.exe\")\n",
    "    driver.get(link)\n",
    "    see_all_button = driver.find_element(by= By.XPATH, value='//*[@id=\"main-content\"]/div[2]/div[6]/div[3]/button').click()\n",
    "\n",
    "    # name of the house\n",
    "    try:\n",
    "        name = driver.find_element(by=By.XPATH, value='//*[@id=\"main-content\"]/div[2]/div[1]/div[1]/div[1]/div/div/div[1]/div[1]/h1/span[1]').text\n",
    "        names.append(name)\n",
    "    except:\n",
    "        name = \"Null\"\n",
    "        names.append(name)\n",
    "    \n",
    "    # location of the house\n",
    "    try:\n",
    "        city = driver.find_element(by=By.XPATH, value='//*[@id=\"main-content\"]/div[2]/div[1]/div[1]/div[1]/div/div/div[1]/div[1]/h1/span[2]').text\n",
    "        cities.append(city)\n",
    "    except:\n",
    "        city = \"Null\"\n",
    "        cities.append(city)\n",
    "    \n",
    "    #price of the house\n",
    "    try:\n",
    "        price = driver.find_element(by=By.XPATH, value='//*[@id=\"main-content\"]/div[2]/div[1]/div[1]/div[1]/div/div/div[2]/div/h3/div').text\n",
    "        prices.append(price)\n",
    "    except:\n",
    "        price = \"Null\"\n",
    "        prices.append(price)\n",
    "    \n",
    "    #number of bedrooms\n",
    "    try:\n",
    "        bed = driver.find_element(by=By.XPATH, value='//*[@id=\"main-content\"]/div[2]/div[1]/div[1]/div[1]/div/div/div[1]/div[2]/div[1]/div/ul/li[1]/div/div').text\n",
    "        beds.append(bed)\n",
    "    except:\n",
    "        bed = \"Null\"\n",
    "        beds.append(bed)\n",
    "    \n",
    "    #number of bathrooms\n",
    "    try:\n",
    "        bath = driver.find_element(by=By.XPATH, value='//*[@id=\"main-content\"]/div[2]/div[1]/div[1]/div[1]/div/div/div[1]/div[2]/div[1]/div/ul/li[2]/div/div').text\n",
    "        baths.append(bath)\n",
    "    except:\n",
    "        bath = \"Null\"\n",
    "        baths.append(bath)\n",
    "    \n",
    "    #area of the house\n",
    "    try:\n",
    "        area = driver.find_element(by=By.XPATH, value='//*[@id=\"main-content\"]/div[2]/div[1]/div[1]/div[1]/div/div/div[1]/div[2]/div[1]/div/ul/li[3]/div/div').text\n",
    "        areas.append(area)\n",
    "    except:\n",
    "        area = \"Null\"\n",
    "        areas.append(area)\n",
    "      \n",
    "    #price per sqft\n",
    "    try:\n",
    "        price = driver.find_element(by=By.XPATH, value='//*[@id=\"main-content\"]/div[2]/div[4]/div/div/div/div[2]/div[5]/div/div/div/div[2]/div').text\n",
    "        price_per_sqft.append(price)\n",
    "    except:\n",
    "        price = \"Null\"\n",
    "        price_per_sqft.append(price)\n",
    "    \n",
    "    #air condition type\n",
    "    try:\n",
    "        ac = driver.find_element(by=By.XPATH, value='//*[@id=\"main-content\"]/div[2]/div[4]/div/div/div/div[2]/div[3]/div/div/div/div[2]/div').text\n",
    "        acs.append(ac)\n",
    "    except:\n",
    "        ac = \"Null\"\n",
    "        acs.append(ac)\n",
    "      \n",
    "    #Year of the house built\n",
    "    try:\n",
    "        year = driver.find_element(by=By.XPATH, value= \"//*[contains(text(), 'Year Built:')]\").text\n",
    "        year_built.append(year)\n",
    "    except:\n",
    "        year = \"Null\"\n",
    "        year_built.append(year)\n",
    "    \n",
    "    #Neighbourhood \n",
    "    try:\n",
    "        hood = driver.find_element(by=By.XPATH, value='//*[@id=\"main-content\"]/div[2]/div[1]/div[1]/div[1]/div/div/div[1]/div[1]/a').text\n",
    "        neighbourhood.append(hood)\n",
    "    except:\n",
    "        hood = \"Null\"\n",
    "        neighbourhood.append(hood)\n",
    "    \n",
    "    \n",
    "    "
   ]
  },
  {
   "cell_type": "markdown",
   "id": "bd745a98",
   "metadata": {},
   "source": [
    "Convert into a dataframe "
   ]
  },
  {
   "cell_type": "code",
   "execution_count": 12,
   "id": "a1b768c3",
   "metadata": {},
   "outputs": [],
   "source": [
    "data = {'Name': names,'City': cities, 'Neighbourhood': neighbourhood ,'Price': prices, 'Year Built' : year_built,\n",
    "        'Beds': beds,'Baths': baths, 'Area': areas, 'Price(per sqft)': price_per_sqft, 'A/C': acs\n",
    "        }\n",
    "\n",
    "df = pd.DataFrame(data)"
   ]
  },
  {
   "cell_type": "markdown",
   "id": "49c2788a",
   "metadata": {},
   "source": [
    "Convert to CSV 🫡"
   ]
  },
  {
   "cell_type": "code",
   "execution_count": 13,
   "id": "1310a99e",
   "metadata": {},
   "outputs": [],
   "source": [
    "df.to_csv(\"Trulia_Real_Estate.csv\")"
   ]
  },
  {
   "cell_type": "code",
   "execution_count": 14,
   "id": "b6dce2e4",
   "metadata": {},
   "outputs": [
    {
     "data": {
      "text/html": [
       "<div>\n",
       "<style scoped>\n",
       "    .dataframe tbody tr th:only-of-type {\n",
       "        vertical-align: middle;\n",
       "    }\n",
       "\n",
       "    .dataframe tbody tr th {\n",
       "        vertical-align: top;\n",
       "    }\n",
       "\n",
       "    .dataframe thead th {\n",
       "        text-align: right;\n",
       "    }\n",
       "</style>\n",
       "<table border=\"1\" class=\"dataframe\">\n",
       "  <thead>\n",
       "    <tr style=\"text-align: right;\">\n",
       "      <th></th>\n",
       "      <th>Name</th>\n",
       "      <th>City</th>\n",
       "      <th>Neighbourhood</th>\n",
       "      <th>Price</th>\n",
       "      <th>Year Built</th>\n",
       "      <th>Beds</th>\n",
       "      <th>Baths</th>\n",
       "      <th>Area</th>\n",
       "      <th>Price(per sqft)</th>\n",
       "      <th>A/C</th>\n",
       "    </tr>\n",
       "  </thead>\n",
       "  <tbody>\n",
       "    <tr>\n",
       "      <th>0</th>\n",
       "      <td>1752 E 38th St</td>\n",
       "      <td>Brooklyn, NY 11234</td>\n",
       "      <td>Marine Park</td>\n",
       "      <td>$829,000</td>\n",
       "      <td>Year Built: 1930</td>\n",
       "      <td>3 Beds</td>\n",
       "      <td>2 Baths</td>\n",
       "      <td>1,036 sqft</td>\n",
       "      <td>$800</td>\n",
       "      <td>Heating &amp; Cooling</td>\n",
       "    </tr>\n",
       "    <tr>\n",
       "      <th>1</th>\n",
       "      <td>556 Jefferson Blvd</td>\n",
       "      <td>Staten Island, NY 10312</td>\n",
       "      <td>Annadale</td>\n",
       "      <td>$949,900</td>\n",
       "      <td>Year Built: 1977</td>\n",
       "      <td>3 Beds</td>\n",
       "      <td>2 Baths</td>\n",
       "      <td>2,465 sqft</td>\n",
       "      <td>$385</td>\n",
       "      <td>Heating &amp; Cooling</td>\n",
       "    </tr>\n",
       "    <tr>\n",
       "      <th>2</th>\n",
       "      <td>7913 5th Ave</td>\n",
       "      <td>Brooklyn, NY 11209</td>\n",
       "      <td>Bay Ridge</td>\n",
       "      <td>$1,549,000</td>\n",
       "      <td>Year Built: 1920</td>\n",
       "      <td>Studio</td>\n",
       "      <td>3,135 sqft</td>\n",
       "      <td>Null</td>\n",
       "      <td>$494</td>\n",
       "      <td>Heating only</td>\n",
       "    </tr>\n",
       "    <tr>\n",
       "      <th>3</th>\n",
       "      <td>269-10 Grand Central Pkwy #5D</td>\n",
       "      <td>Floral Park, NY 11005</td>\n",
       "      <td>Glen Oaks</td>\n",
       "      <td>$649,000</td>\n",
       "      <td>Year Built: 1972</td>\n",
       "      <td>1 Bed</td>\n",
       "      <td>2 Baths</td>\n",
       "      <td>1,213 sqft</td>\n",
       "      <td>$535</td>\n",
       "      <td>Cooling only</td>\n",
       "    </tr>\n",
       "    <tr>\n",
       "      <th>4</th>\n",
       "      <td>1025 42nd St #5</td>\n",
       "      <td>Brooklyn, NY 11219</td>\n",
       "      <td>Borough Park</td>\n",
       "      <td>$975,000</td>\n",
       "      <td>Year Built: 2005</td>\n",
       "      <td>4 Beds</td>\n",
       "      <td>2 Baths</td>\n",
       "      <td>1,700 sqft</td>\n",
       "      <td>$574</td>\n",
       "      <td>Cooling only</td>\n",
       "    </tr>\n",
       "  </tbody>\n",
       "</table>\n",
       "</div>"
      ],
      "text/plain": [
       "                            Name                     City Neighbourhood  \\\n",
       "0                 1752 E 38th St       Brooklyn, NY 11234   Marine Park   \n",
       "1             556 Jefferson Blvd  Staten Island, NY 10312      Annadale   \n",
       "2                   7913 5th Ave       Brooklyn, NY 11209     Bay Ridge   \n",
       "3  269-10 Grand Central Pkwy #5D    Floral Park, NY 11005     Glen Oaks   \n",
       "4                1025 42nd St #5       Brooklyn, NY 11219  Borough Park   \n",
       "\n",
       "        Price        Year Built    Beds       Baths        Area  \\\n",
       "0    $829,000  Year Built: 1930  3 Beds     2 Baths  1,036 sqft   \n",
       "1    $949,900  Year Built: 1977  3 Beds     2 Baths  2,465 sqft   \n",
       "2  $1,549,000  Year Built: 1920  Studio  3,135 sqft        Null   \n",
       "3    $649,000  Year Built: 1972   1 Bed     2 Baths  1,213 sqft   \n",
       "4    $975,000  Year Built: 2005  4 Beds     2 Baths  1,700 sqft   \n",
       "\n",
       "  Price(per sqft)                A/C  \n",
       "0            $800  Heating & Cooling  \n",
       "1            $385  Heating & Cooling  \n",
       "2            $494       Heating only  \n",
       "3            $535       Cooling only  \n",
       "4            $574       Cooling only  "
      ]
     },
     "execution_count": 14,
     "metadata": {},
     "output_type": "execute_result"
    }
   ],
   "source": [
    "df"
   ]
  },
  {
   "cell_type": "code",
   "execution_count": null,
   "id": "44403323",
   "metadata": {},
   "outputs": [],
   "source": []
  },
  {
   "cell_type": "code",
   "execution_count": null,
   "id": "d100f037",
   "metadata": {},
   "outputs": [],
   "source": []
  }
 ],
 "metadata": {
  "kernelspec": {
   "display_name": "Python 3 (ipykernel)",
   "language": "python",
   "name": "python3"
  },
  "language_info": {
   "codemirror_mode": {
    "name": "ipython",
    "version": 3
   },
   "file_extension": ".py",
   "mimetype": "text/x-python",
   "name": "python",
   "nbconvert_exporter": "python",
   "pygments_lexer": "ipython3",
   "version": "3.9.8"
  }
 },
 "nbformat": 4,
 "nbformat_minor": 5
}
